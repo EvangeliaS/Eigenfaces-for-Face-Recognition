{
  "cells": [
    {
      "attachments": {},
      "cell_type": "markdown",
      "metadata": {
        "id": "wbcbtRrfpggr"
      },
      "source": [
        "#Στειροπούλου Ευαγγελία \n",
        "###Α.Μ. 111520180016\n",
        "##Εργασία 2η Αναγνώριση Προτύπων - Μηχανική Μάθηση\n",
        "\n"
      ]
    },
    {
      "attachments": {},
      "cell_type": "markdown",
      "metadata": {
        "id": "AZbVKoO5EXn0"
      },
      "source": [
        "#Face recognition: "
      ]
    },
    {
      "cell_type": "code",
      "execution_count": 11,
      "metadata": {
        "id": "byw3u5KBqwos"
      },
      "outputs": [],
      "source": [
        "import numpy as np\n",
        "import matplotlib.pyplot as plt\n",
        "from sklearn.datasets import fetch_lfw_people ##Labeled Faces in the Wild\n",
        "from sklearn.decomposition import PCA\n",
        "import glob\n",
        "import re\n",
        "from sklearn.neighbors import KNeighborsClassifier\n",
        "from sklearn.metrics import accuracy_score, confusion_matrix, ConfusionMatrixDisplay, classification_report"
      ]
    },
    {
      "cell_type": "code",
      "execution_count": 32,
      "metadata": {},
      "outputs": [
        {
          "name": "stdout",
          "output_type": "stream",
          "text": [
            "Set 1: Image matrix shape: (70, 2500)\n",
            "Set 2: Image matrix shape: (120, 2500)\n",
            "Set 3: Image matrix shape: (120, 2500)\n",
            "Set 4: Image matrix shape: (140, 2500)\n",
            "Set 5: Image matrix shape: (190, 2500)\n"
          ]
        }
      ],
      "source": [
        "def loadImages(set_number):\n",
        "    image_paths = glob.glob('/home/eva/Documents/machine_learning/project2/faces/person*_*.png')\n",
        "\n",
        "    image_matrix = []\n",
        "    labels = []\n",
        "    for path in image_paths:\n",
        "        filename = path.split('/')[-1]\n",
        "        person_id = int(filename.split('_')[0][6:])\n",
        "        image_number = int(filename.split('_')[1].split('.')[0])\n",
        "\n",
        "        if ((set_number == 1 and 1 <= image_number <= 7) or\n",
        "            (set_number == 2 and 8 <= image_number <= 19) or\n",
        "            (set_number == 3 and 20 <= image_number <= 31) or\n",
        "            (set_number == 4 and 32 <= image_number <= 45) or\n",
        "            (set_number == 5 and 46 <= image_number <= 64)):\n",
        "\n",
        "            image_array = np.array(plt.imread(path).flatten())\n",
        "            image_matrix.append(image_array)\n",
        "            labels.append(person_id)\n",
        "    \n",
        "    return np.array(image_matrix), labels\n",
        "\n",
        "# Usage examples:\n",
        "set_number = 1\n",
        "image_matrix,labels = loadImages(set_number)\n",
        "print(f\"Set {set_number}: Image matrix shape: {image_matrix.shape}\")\n",
        "\n",
        "set_number = 2\n",
        "image_matrix,labels = loadImages(set_number)\n",
        "print(f\"Set {set_number}: Image matrix shape: {image_matrix.shape}\")\n",
        "\n",
        "set_number = 3\n",
        "image_matrix,labels = loadImages(set_number)\n",
        "print(f\"Set {set_number}: Image matrix shape: {image_matrix.shape}\")\n",
        "\n",
        "set_number = 4\n",
        "image_matrix,labels = loadImages(set_number)\n",
        "print(f\"Set {set_number}: Image matrix shape: {image_matrix.shape}\")\n",
        "\n",
        "set_number = 5\n",
        "image_matrix,labels = loadImages(set_number)\n",
        "print(f\"Set {set_number}: Image matrix shape: {image_matrix.shape}\")\n",
        "\n"
      ]
    },
    {
      "cell_type": "code",
      "execution_count": null,
      "metadata": {},
      "outputs": [],
      "source": [
        "\n",
        "# def normalization(faces):\n",
        "#     X = np.ndarray(shape=faces.shape)  # Normalized data matrix\n",
        "#     # normalization ton prosopon afairontas mesi timi kai diairontas me typiki apoklisi\n",
        "#     for i in range(faces.shape[0]):\n",
        "#         X[i] = (faces[i] - np.mean(faces, axis=0)) / np.std(faces, axis=0)\n",
        "#     return X\n",
        "\n",
        "# loadImages(\"/home/eva/Documents/machine_learning/project2/faces/\", \"1\")"
      ]
    },
    {
      "cell_type": "code",
      "execution_count": null,
      "metadata": {},
      "outputs": [],
      "source": [
        "\n",
        "X_set1, y_set1 = loadImages(\"/home/eva/Documents/machine_learning/project2/faces\", '01')\n",
        "   \n",
        "average_face = np.mean(X_set1, axis=0)\n",
        "\n",
        "X_train_set = normalization(X_set1)\n",
        "\n",
        "print(X_train_set.shape)\n",
        "\n",
        "accuracy = [[] for _ in range(len([9, 30]))]\n",
        "\n",
        "f, axes = plt.subplots(1, 5, figsize=(20, 5))\n",
        "\n",
        "for d_idx, d in enumerate([9, 30]):\n",
        "    pca = PCA(n_components=d, whiten=True).fit(X_train_set)\n",
        "    X_train_pca = pca.transform(X_train_set)\n",
        "    classifier = KNeighborsClassifier(n_neighbors=1).fit(X_train_pca, y_set1)\n",
        "\n",
        "    for i in range(1, 6):\n",
        "        X_set, y_set = loadImages(\"/home/eva/Documents/machine_learning/project2/faces\", + str(i))\n",
        "        X_test_set = normalization(X_set)\n",
        "        X_test_pca = pca.transform(X_test_set)\n",
        "        y_pred = classifier.predict(X_test_pca)\n",
        "        accuracy[d_idx].append(int(accuracy_score(y_set, y_pred) * 100))\n",
        "        print(accuracy_score(y_set, y_pred))\n",
        "\n",
        "#         names =[1,2,3,4,5,6,7,8,9,10]\n",
        "\n",
        "\n",
        "#         # ektipono ektos apo to Score kai to confusion matrix\n",
        "#         cfmatr = confusion_matrix(y_set, y_pred)\n",
        "#         cmd = ConfusionMatrixDisplay(cfmatr, display_labels=names)\n",
        "#         cmd.plot(ax=axes[i-1])\n",
        "#         cmd.ax_.set_title(\"Set_\"+str(i)+ \" Score: \"+str(int(accuracy_score(y_set, y_pred)*100))+\"%\")\n",
        "#         cmd.im_.colorbar.remove()\n",
        "#         cmd.ax_.set_xlabel('')\n",
        "\n",
        "#   # gia to plotting ton confusion matrixes\n",
        "#     plt.subplots_adjust(wspace=0.1, hspace=0.1)\n",
        "#     plt.tight_layout()\n",
        "#     plt.show()"
      ]
    },
    {
      "attachments": {},
      "cell_type": "markdown",
      "metadata": {
        "id": "emJ60JYeIle7"
      },
      "source": [
        "##I: Συνάρτηση loadImages:"
      ]
    },
    {
      "attachments": {},
      "cell_type": "markdown",
      "metadata": {},
      "source": [
        "Όπως αναφέρεται στην εκφώνηση, η προεπεξεργασία της εικόνας είναι απαραραίτητη, και γίνεται με την αφαίρεση της μέσης τιμής της και στην συνέχεια με την διαίρεση με την τυπική απόκλιση των τιμών της."
      ]
    },
    {
      "cell_type": "code",
      "execution_count": 19,
      "metadata": {},
      "outputs": [],
      "source": [
        "\n",
        "def normalization(faces):\n",
        "    X = np.ndarray(shape=faces.shape) #Normalized data matrix\n",
        "    for i in range(faces.shape[0]):\n",
        "        X[i] = (faces[i] - np.mean(faces))/np.std(faces) #Mean normalization of the data\n",
        "\n",
        "    return X\n"
      ]
    }
  ],
  "metadata": {
    "colab": {
      "provenance": []
    },
    "kernelspec": {
      "display_name": "Python 3",
      "name": "python3"
    },
    "language_info": {
      "codemirror_mode": {
        "name": "ipython",
        "version": 3
      },
      "file_extension": ".py",
      "mimetype": "text/x-python",
      "name": "python",
      "nbconvert_exporter": "python",
      "pygments_lexer": "ipython3",
      "version": "3.8.10"
    }
  },
  "nbformat": 4,
  "nbformat_minor": 0
}
