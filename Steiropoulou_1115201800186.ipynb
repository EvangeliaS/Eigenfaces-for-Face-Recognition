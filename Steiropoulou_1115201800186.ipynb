{
  "cells": [
    {
      "attachments": {},
      "cell_type": "markdown",
      "metadata": {
        "id": "wbcbtRrfpggr"
      },
      "source": [
        "#Στειροπούλου Ευαγγελία \n",
        "###Α.Μ. 111520180016\n",
        "##Εργασία 2η Αναγνώριση Προτύπων - Μηχανική Μάθηση\n",
        "\n"
      ]
    },
    {
      "attachments": {},
      "cell_type": "markdown",
      "metadata": {
        "id": "AZbVKoO5EXn0"
      },
      "source": [
        "#Face recognition: "
      ]
    },
    {
      "cell_type": "code",
      "execution_count": 47,
      "metadata": {
        "id": "byw3u5KBqwos"
      },
      "outputs": [],
      "source": [
        "import numpy as np\n",
        "import matplotlib.pyplot as plt\n",
        "from sklearn.datasets import fetch_lfw_people ##Labeled Faces in the Wild\n",
        "from sklearn.decomposition import PCA\n",
        "import glob\n",
        "import re\n",
        "from sklearn.neighbors import KNeighborsClassifier\n",
        "from sklearn.metrics import accuracy_score, confusion_matrix, ConfusionMatrixDisplay, classification_report"
      ]
    },
    {
      "attachments": {},
      "cell_type": "markdown",
      "metadata": {
        "id": "emJ60JYeIle7"
      },
      "source": [
        "##I: Συνάρτηση loadImages:"
      ]
    },
    {
      "cell_type": "code",
      "execution_count": 36,
      "metadata": {},
      "outputs": [],
      "source": [
        "def loadImages(path, set_number):\n",
        "    set_folder = \"faces\"\n",
        "    persons = glob.glob(set_folder+\"/*.png\")\n",
        "    # assume X is a 2500xN matrix containing N 50x50 images\n",
        "    faces = []\n",
        "    labels = []\n",
        "    for person in persons:\n",
        "        face = plt.imread(person)\n",
        "        person_number = int(re.split(\"_\", (re.split(set_folder+\"/person\", person))[1])[0])\n",
        "        faces.append(face.flatten())\n",
        "        labels.append(person_number)\n",
        "\n",
        "    faces = np.array(faces)\n",
        "    labels = np.array(labels)\n",
        "    return faces, labels"
      ]
    },
    {
      "attachments": {},
      "cell_type": "markdown",
      "metadata": {},
      "source": [
        "Όπως αναφέρεται στην εκφώνηση, η προεπεξεργασία της εικόνας είναι απαραραίτητη, και γίνεται με την αφαίρεση της μέσης τιμής της και στην συνέχεια με την διαίρεση με την τυπική απόκλιση των τιμών της."
      ]
    },
    {
      "cell_type": "code",
      "execution_count": 37,
      "metadata": {},
      "outputs": [],
      "source": [
        "def normalization(faces):\n",
        "    X = np.ndarray(shape=faces.shape) #Normalized data matrix\n",
        "    for i in range(faces.shape[0]):\n",
        "        X[i] = (faces[i] - np.mean(faces[i]))/np.std(faces[i]) #Mean normalization of the data\n",
        "\n",
        "    return X"
      ]
    },
    {
      "cell_type": "code",
      "execution_count": 49,
      "metadata": {},
      "outputs": [
        {
          "ename": "NotFittedError",
          "evalue": "This KNeighborsClassifier instance is not fitted yet. Call 'fit' with appropriate arguments before using this estimator.",
          "output_type": "error",
          "traceback": [
            "\u001b[0;31m---------------------------------------------------------------------------\u001b[0m",
            "\u001b[0;31mNotFittedError\u001b[0m                            Traceback (most recent call last)",
            "Cell \u001b[0;32mIn[49], line 20\u001b[0m\n\u001b[1;32m     18\u001b[0m X_test_set \u001b[39m=\u001b[39m normalization(X_set)\n\u001b[1;32m     19\u001b[0m X_test_pca \u001b[39m=\u001b[39m pca\u001b[39m.\u001b[39mtransform(X_test_set)\n\u001b[0;32m---> 20\u001b[0m labels_pred \u001b[39m=\u001b[39m KNeighborsClassifier(n_neighbors \u001b[39m=\u001b[39;49m \u001b[39m1\u001b[39;49m)\u001b[39m.\u001b[39;49mpredict(X_test_pca)\n\u001b[1;32m     21\u001b[0m \u001b[39m# akriveia taksinomisis\u001b[39;00m\n\u001b[1;32m     22\u001b[0m accuracy\u001b[39m.\u001b[39mappend(\u001b[39mint\u001b[39m(accuracy_score(y_set, y_pred)\u001b[39m*\u001b[39m\u001b[39m100\u001b[39m))\n",
            "File \u001b[0;32m~/.local/lib/python3.8/site-packages/sklearn/neighbors/_classification.py:234\u001b[0m, in \u001b[0;36mKNeighborsClassifier.predict\u001b[0;34m(self, X)\u001b[0m\n\u001b[1;32m    218\u001b[0m \u001b[39m\u001b[39m\u001b[39m\"\"\"Predict the class labels for the provided data.\u001b[39;00m\n\u001b[1;32m    219\u001b[0m \n\u001b[1;32m    220\u001b[0m \u001b[39mParameters\u001b[39;00m\n\u001b[0;32m   (...)\u001b[0m\n\u001b[1;32m    229\u001b[0m \u001b[39m    Class labels for each data sample.\u001b[39;00m\n\u001b[1;32m    230\u001b[0m \u001b[39m\"\"\"\u001b[39;00m\n\u001b[1;32m    231\u001b[0m \u001b[39mif\u001b[39;00m \u001b[39mself\u001b[39m\u001b[39m.\u001b[39mweights \u001b[39m==\u001b[39m \u001b[39m\"\u001b[39m\u001b[39muniform\u001b[39m\u001b[39m\"\u001b[39m:\n\u001b[1;32m    232\u001b[0m     \u001b[39m# In that case, we do not need the distances to perform\u001b[39;00m\n\u001b[1;32m    233\u001b[0m     \u001b[39m# the weighting so we do not compute them.\u001b[39;00m\n\u001b[0;32m--> 234\u001b[0m     neigh_ind \u001b[39m=\u001b[39m \u001b[39mself\u001b[39;49m\u001b[39m.\u001b[39;49mkneighbors(X, return_distance\u001b[39m=\u001b[39;49m\u001b[39mFalse\u001b[39;49;00m)\n\u001b[1;32m    235\u001b[0m     neigh_dist \u001b[39m=\u001b[39m \u001b[39mNone\u001b[39;00m\n\u001b[1;32m    236\u001b[0m \u001b[39melse\u001b[39;00m:\n",
            "File \u001b[0;32m~/.local/lib/python3.8/site-packages/sklearn/neighbors/_base.py:784\u001b[0m, in \u001b[0;36mKNeighborsMixin.kneighbors\u001b[0;34m(self, X, n_neighbors, return_distance)\u001b[0m\n\u001b[1;32m    732\u001b[0m \u001b[39mdef\u001b[39;00m \u001b[39mkneighbors\u001b[39m(\u001b[39mself\u001b[39m, X\u001b[39m=\u001b[39m\u001b[39mNone\u001b[39;00m, n_neighbors\u001b[39m=\u001b[39m\u001b[39mNone\u001b[39;00m, return_distance\u001b[39m=\u001b[39m\u001b[39mTrue\u001b[39;00m):\n\u001b[1;32m    733\u001b[0m \u001b[39m    \u001b[39m\u001b[39m\"\"\"Find the K-neighbors of a point.\u001b[39;00m\n\u001b[1;32m    734\u001b[0m \n\u001b[1;32m    735\u001b[0m \u001b[39m    Returns indices of and distances to the neighbors of each point.\u001b[39;00m\n\u001b[0;32m   (...)\u001b[0m\n\u001b[1;32m    782\u001b[0m \u001b[39m           [2]]...)\u001b[39;00m\n\u001b[1;32m    783\u001b[0m \u001b[39m    \"\"\"\u001b[39;00m\n\u001b[0;32m--> 784\u001b[0m     check_is_fitted(\u001b[39mself\u001b[39;49m)\n\u001b[1;32m    786\u001b[0m     \u001b[39mif\u001b[39;00m n_neighbors \u001b[39mis\u001b[39;00m \u001b[39mNone\u001b[39;00m:\n\u001b[1;32m    787\u001b[0m         n_neighbors \u001b[39m=\u001b[39m \u001b[39mself\u001b[39m\u001b[39m.\u001b[39mn_neighbors\n",
            "File \u001b[0;32m~/.local/lib/python3.8/site-packages/sklearn/utils/validation.py:1390\u001b[0m, in \u001b[0;36mcheck_is_fitted\u001b[0;34m(estimator, attributes, msg, all_or_any)\u001b[0m\n\u001b[1;32m   1385\u001b[0m     fitted \u001b[39m=\u001b[39m [\n\u001b[1;32m   1386\u001b[0m         v \u001b[39mfor\u001b[39;00m v \u001b[39min\u001b[39;00m \u001b[39mvars\u001b[39m(estimator) \u001b[39mif\u001b[39;00m v\u001b[39m.\u001b[39mendswith(\u001b[39m\"\u001b[39m\u001b[39m_\u001b[39m\u001b[39m\"\u001b[39m) \u001b[39mand\u001b[39;00m \u001b[39mnot\u001b[39;00m v\u001b[39m.\u001b[39mstartswith(\u001b[39m\"\u001b[39m\u001b[39m__\u001b[39m\u001b[39m\"\u001b[39m)\n\u001b[1;32m   1387\u001b[0m     ]\n\u001b[1;32m   1389\u001b[0m \u001b[39mif\u001b[39;00m \u001b[39mnot\u001b[39;00m fitted:\n\u001b[0;32m-> 1390\u001b[0m     \u001b[39mraise\u001b[39;00m NotFittedError(msg \u001b[39m%\u001b[39m {\u001b[39m\"\u001b[39m\u001b[39mname\u001b[39m\u001b[39m\"\u001b[39m: \u001b[39mtype\u001b[39m(estimator)\u001b[39m.\u001b[39m\u001b[39m__name__\u001b[39m})\n",
            "\u001b[0;31mNotFittedError\u001b[0m: This KNeighborsClassifier instance is not fitted yet. Call 'fit' with appropriate arguments before using this estimator."
          ]
        },
        {
          "data": {
            "image/png": "[encoded data removed]",
            "text/plain": [
              "<Figure size 2000x500 with 5 Axes>"
            ]
          },
          "metadata": {},
          "output_type": "display_data"
        }
      ],
      "source": [
        "X_set1, labels_set1 = loadImages(\"/home/eva/Documents/machine_learning/project2/faces\", '01')\n",
        "average_face = np.mean(X_set1, axis=0)\n",
        "\n",
        "X_train_set = normalization(X_set1)\n",
        "\n",
        "accuracy = []\n",
        "\n",
        "dimentions = [9,30]\n",
        "for d in dimentions:\n",
        "    pca = PCA(n_components=d, whiten=True)\n",
        "    pca.fit(X_train_set)\n",
        "    X_train_pca = pca.transform(X_train_set)\n",
        "    KNeighborsClassifier(n_neighbors = 1).fit(X_train_pca, labels_set1)\n",
        "\n",
        "    figur, ax = plt.subplots(1, 5, figsize=(20, 5))\n",
        "    for i in range(5):\n",
        "        X_set, labels_set = loadImages(\"/home/eva/Documents/machine_learning/project2/faces\", '0'+str(i+1))\n",
        "        X_test_set = normalization(X_set)\n",
        "        X_test_pca = pca.transform(X_test_set)\n",
        "        labels_pred = KNeighborsClassifier(n_neighbors = 1).predict(X_test_pca)\n",
        "        # akriveia taksinomisis\n",
        "        accuracy.append(int(accuracy_score(y_set, y_pred)*100))\n",
        "\n",
        "        # ta labels poy tha xreiastoun parakato\n",
        "        names =[1,2,3,4,5,6,7,8,9,10]\n",
        "\n",
        "        # ektipono ektos apo to Score kai to confusion matrix\n",
        "        cfmatr = confusion_matrix(y_set, y_pred)\n",
        "        cmd = ConfusionMatrixDisplay(cfmatr, display_labels=names)\n",
        "        cmd.plot(ax=axes[i-1])\n",
        "        cmd.ax_.set_title(\"Set_\"+str(i)+ \" Score: \"+str(int(accuracy_score(y_set, y_pred)*100))+\"%\")\n",
        "        cmd.im_.colorbar.remove()\n",
        "        cmd.ax_.set_xlabel('')\n",
        "\n",
        "    # gia to plotting ton confusion matrixes\n",
        "    plt.subplots_adjust(wspace=0.1, hspace=0.1)\n",
        "    plt.tight_layout()\n",
        "    plt.show()"
      ]
    },
    {
      "cell_type": "code",
      "execution_count": null,
      "metadata": {},
      "outputs": [],
      "source": [
        "\n",
        "X_set2, labels_set2 = loadImages(\"/home/eva/Documents/machine_learning/project2/faces\", '02')\n",
        "\n",
        "X_set3, labels_set3 = loadImages(\"/home/eva/Documents/machine_learning/project2/faces\", '03')\n",
        "\n",
        "X_set4, labels_set4 = loadImages(\"/home/eva/Documents/machine_learning/project2/faces\", '04')\n",
        "\n",
        "X_set5, labels_set5 = loadImages(\"/home/eva/Documents/machine_learning/project2/faces\", '05')\n",
        "\n",
        "# Step 3: Compute the covariance matrix\n",
        "covariance_matrix = np.cov(X.T)\n",
        "\n",
        "# Step 4: Compute the eigenvectors and eigenvalues\n",
        "eigenvalues, eigenvectors = np.linalg.eig(covariance_matrix)\n",
        "\n",
        "# Step 5: Choose the number of principal components\n",
        "n_components = 9\n",
        "\n",
        "# Step 6: Project the data onto the principal components\n",
        "pca = PCA(n_components=n_components)\n",
        "X_pca = pca.fit_transform(X)\n",
        "\n",
        "\n"
      ]
    }
  ],
  "metadata": {
    "colab": {
      "provenance": []
    },
    "kernelspec": {
      "display_name": "Python 3",
      "name": "python3"
    },
    "language_info": {
      "codemirror_mode": {
        "name": "ipython",
        "version": 3
      },
      "file_extension": ".py",
      "mimetype": "text/x-python",
      "name": "python",
      "nbconvert_exporter": "python",
      "pygments_lexer": "ipython3",
      "version": "3.8.10"
    }
  },
  "nbformat": 4,
  "nbformat_minor": 0
}
